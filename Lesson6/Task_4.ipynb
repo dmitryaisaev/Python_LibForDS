{
  "nbformat": 4,
  "nbformat_minor": 0,
  "metadata": {
    "colab": {
      "name": "Untitled0.ipynb",
      "provenance": []
    },
    "kernelspec": {
      "name": "python3",
      "display_name": "Python 3"
    },
    "language_info": {
      "name": "python"
    }
  },
  "cells": [
    {
      "cell_type": "code",
      "execution_count": 1,
      "metadata": {
        "id": "BaJTtysqSOgX"
      },
      "outputs": [],
      "source": [
        "import numpy as np\n",
        "import pandas as pd\n",
        "from matplotlib import pyplot as plt\n",
        "from sklearn.model_selection import train_test_split\n",
        "from sklearn.ensemble import RandomForestClassifier\n",
        "from sklearn.model_selection import GridSearchCV"
      ]
    },
    {
      "cell_type": "code",
      "source": [
        "df = pd.read_csv('creditcard.csv')\n",
        "df.shape"
      ],
      "metadata": {
        "colab": {
          "base_uri": "https://localhost:8080/"
        },
        "id": "-sugCqiKTX8M",
        "outputId": "38ea420d-d72b-4bbb-8d8a-86d4247aa08f"
      },
      "execution_count": 8,
      "outputs": [
        {
          "output_type": "execute_result",
          "data": {
            "text/plain": [
              "(158602, 31)"
            ]
          },
          "metadata": {},
          "execution_count": 8
        }
      ]
    },
    {
      "cell_type": "code",
      "source": [
        "pd.options.display.max_columns = 100\n",
        "x = df['Class'].value_counts(normalize=True)\n",
        "x"
      ],
      "metadata": {
        "colab": {
          "base_uri": "https://localhost:8080/"
        },
        "id": "J_BjNgjqbuvE",
        "outputId": "2864c6ab-555e-4fa1-bda1-ed0acd9eb62d"
      },
      "execution_count": 9,
      "outputs": [
        {
          "output_type": "execute_result",
          "data": {
            "text/plain": [
              "0.0    0.997755\n",
              "1.0    0.002245\n",
              "Name: Class, dtype: float64"
            ]
          },
          "metadata": {},
          "execution_count": 9
        }
      ]
    },
    {
      "cell_type": "code",
      "source": [
        "df.info()"
      ],
      "metadata": {
        "colab": {
          "base_uri": "https://localhost:8080/"
        },
        "id": "zzgTMuo4clsF",
        "outputId": "076c2771-f593-4317-d1c3-9506b9c29a92"
      },
      "execution_count": 10,
      "outputs": [
        {
          "output_type": "stream",
          "name": "stdout",
          "text": [
            "<class 'pandas.core.frame.DataFrame'>\n",
            "RangeIndex: 158602 entries, 0 to 158601\n",
            "Data columns (total 31 columns):\n",
            " #   Column  Non-Null Count   Dtype  \n",
            "---  ------  --------------   -----  \n",
            " 0   Time    158602 non-null  float64\n",
            " 1   V1      158602 non-null  float64\n",
            " 2   V2      158602 non-null  float64\n",
            " 3   V3      158602 non-null  float64\n",
            " 4   V4      158602 non-null  float64\n",
            " 5   V5      158602 non-null  float64\n",
            " 6   V6      158602 non-null  float64\n",
            " 7   V7      158602 non-null  float64\n",
            " 8   V8      158601 non-null  float64\n",
            " 9   V9      158601 non-null  float64\n",
            " 10  V10     158601 non-null  float64\n",
            " 11  V11     158601 non-null  float64\n",
            " 12  V12     158601 non-null  float64\n",
            " 13  V13     158601 non-null  float64\n",
            " 14  V14     158601 non-null  float64\n",
            " 15  V15     158601 non-null  float64\n",
            " 16  V16     158601 non-null  float64\n",
            " 17  V17     158601 non-null  float64\n",
            " 18  V18     158601 non-null  float64\n",
            " 19  V19     158601 non-null  float64\n",
            " 20  V20     158601 non-null  float64\n",
            " 21  V21     158601 non-null  float64\n",
            " 22  V22     158601 non-null  float64\n",
            " 23  V23     158601 non-null  float64\n",
            " 24  V24     158601 non-null  float64\n",
            " 25  V25     158601 non-null  float64\n",
            " 26  V26     158601 non-null  float64\n",
            " 27  V27     158601 non-null  float64\n",
            " 28  V28     158601 non-null  float64\n",
            " 29  Amount  158601 non-null  float64\n",
            " 30  Class   158601 non-null  float64\n",
            "dtypes: float64(31)\n",
            "memory usage: 37.5 MB\n"
          ]
        }
      ]
    },
    {
      "cell_type": "code",
      "source": [
        "df.tail()"
      ],
      "metadata": {
        "colab": {
          "base_uri": "https://localhost:8080/",
          "height": 270
        },
        "id": "651KjGNfc65q",
        "outputId": "1706472d-2edc-4878-e1be-e2c5dbc847f7"
      },
      "execution_count": 33,
      "outputs": [
        {
          "output_type": "execute_result",
          "data": {
            "text/plain": [
              "            Time        V1        V2        V3        V4        V5        V6  \\\n",
              "158597  111499.0  1.753695  0.018874 -0.429072  4.161717  0.215270  0.811187   \n",
              "158598  111499.0 -0.223112  0.969299  0.774386 -0.162188  0.134878 -1.627333   \n",
              "158599  111499.0 -0.324219  1.078371 -0.661833 -1.060278  1.553663 -1.123551   \n",
              "158600  111500.0 -0.909674  1.204345 -0.038838  0.528709  2.760196  1.270910   \n",
              "158601  111502.0  1.939272 -0.528638 -0.457417  0.289690 -0.413718  0.061268   \n",
              "\n",
              "              V7        V8        V9       V10       V11       V12       V13  \\\n",
              "158597 -0.328388  0.124104  1.297017  0.925459 -1.342173 -3.560343 -0.127983   \n",
              "158598  0.917096 -0.396720  1.209086 -0.674868  0.880116 -1.909454  1.809440   \n",
              "158599  1.788409 -0.653065  0.899690 -0.190682  1.711868 -1.797449  1.891790   \n",
              "158600  0.929798  0.373622  0.090421 -1.511485  2.161028 -2.525702  0.551146   \n",
              "158601 -0.754919       NaN       NaN       NaN       NaN       NaN       NaN   \n",
              "\n",
              "             V14       V15       V16       V17       V18       V19       V20  \\\n",
              "158597  1.436686 -2.426679  0.554229  0.309518  0.162733 -1.356323 -0.259487   \n",
              "158598  1.501507 -1.225561 -0.406242  0.621322 -0.808423 -0.613424 -0.119494   \n",
              "158599  1.945016 -1.551701 -0.580773 -0.131663  0.295118 -0.022733  0.136918   \n",
              "158600  0.763656 -0.853826 -1.039936  2.400179 -0.115619 -0.742981 -0.104079   \n",
              "158601       NaN       NaN       NaN       NaN       NaN       NaN       NaN   \n",
              "\n",
              "             V21       V22       V23       V24       V25       V26       V27  \\\n",
              "158597 -0.059761  0.046540  0.032887  0.375723  0.050400  0.075297 -0.062722   \n",
              "158598 -0.337662 -0.560819  0.282673  0.869122 -0.610198  0.034188  0.098540   \n",
              "158599  0.053192  0.870073 -0.223665 -0.390476 -0.264169  0.032943  0.325164   \n",
              "158600 -0.066235  0.123375 -0.538330 -0.920971  0.985594 -0.251958  0.046382   \n",
              "158601       NaN       NaN       NaN       NaN       NaN       NaN       NaN   \n",
              "\n",
              "             V28  Amount  Class  \n",
              "158597 -0.037895   89.03    0.0  \n",
              "158598  0.091763    1.79    0.0  \n",
              "158599  0.093798   31.00    0.0  \n",
              "158600  0.055573    1.00    0.0  \n",
              "158601       NaN     NaN    NaN  "
            ],
            "text/html": [
              "\n",
              "  <div id=\"df-a2b75d53-2f4a-4d25-86a1-4576ca1fbf81\">\n",
              "    <div class=\"colab-df-container\">\n",
              "      <div>\n",
              "<style scoped>\n",
              "    .dataframe tbody tr th:only-of-type {\n",
              "        vertical-align: middle;\n",
              "    }\n",
              "\n",
              "    .dataframe tbody tr th {\n",
              "        vertical-align: top;\n",
              "    }\n",
              "\n",
              "    .dataframe thead th {\n",
              "        text-align: right;\n",
              "    }\n",
              "</style>\n",
              "<table border=\"1\" class=\"dataframe\">\n",
              "  <thead>\n",
              "    <tr style=\"text-align: right;\">\n",
              "      <th></th>\n",
              "      <th>Time</th>\n",
              "      <th>V1</th>\n",
              "      <th>V2</th>\n",
              "      <th>V3</th>\n",
              "      <th>V4</th>\n",
              "      <th>V5</th>\n",
              "      <th>V6</th>\n",
              "      <th>V7</th>\n",
              "      <th>V8</th>\n",
              "      <th>V9</th>\n",
              "      <th>V10</th>\n",
              "      <th>V11</th>\n",
              "      <th>V12</th>\n",
              "      <th>V13</th>\n",
              "      <th>V14</th>\n",
              "      <th>V15</th>\n",
              "      <th>V16</th>\n",
              "      <th>V17</th>\n",
              "      <th>V18</th>\n",
              "      <th>V19</th>\n",
              "      <th>V20</th>\n",
              "      <th>V21</th>\n",
              "      <th>V22</th>\n",
              "      <th>V23</th>\n",
              "      <th>V24</th>\n",
              "      <th>V25</th>\n",
              "      <th>V26</th>\n",
              "      <th>V27</th>\n",
              "      <th>V28</th>\n",
              "      <th>Amount</th>\n",
              "      <th>Class</th>\n",
              "    </tr>\n",
              "  </thead>\n",
              "  <tbody>\n",
              "    <tr>\n",
              "      <th>158597</th>\n",
              "      <td>111499.0</td>\n",
              "      <td>1.753695</td>\n",
              "      <td>0.018874</td>\n",
              "      <td>-0.429072</td>\n",
              "      <td>4.161717</td>\n",
              "      <td>0.215270</td>\n",
              "      <td>0.811187</td>\n",
              "      <td>-0.328388</td>\n",
              "      <td>0.124104</td>\n",
              "      <td>1.297017</td>\n",
              "      <td>0.925459</td>\n",
              "      <td>-1.342173</td>\n",
              "      <td>-3.560343</td>\n",
              "      <td>-0.127983</td>\n",
              "      <td>1.436686</td>\n",
              "      <td>-2.426679</td>\n",
              "      <td>0.554229</td>\n",
              "      <td>0.309518</td>\n",
              "      <td>0.162733</td>\n",
              "      <td>-1.356323</td>\n",
              "      <td>-0.259487</td>\n",
              "      <td>-0.059761</td>\n",
              "      <td>0.046540</td>\n",
              "      <td>0.032887</td>\n",
              "      <td>0.375723</td>\n",
              "      <td>0.050400</td>\n",
              "      <td>0.075297</td>\n",
              "      <td>-0.062722</td>\n",
              "      <td>-0.037895</td>\n",
              "      <td>89.03</td>\n",
              "      <td>0.0</td>\n",
              "    </tr>\n",
              "    <tr>\n",
              "      <th>158598</th>\n",
              "      <td>111499.0</td>\n",
              "      <td>-0.223112</td>\n",
              "      <td>0.969299</td>\n",
              "      <td>0.774386</td>\n",
              "      <td>-0.162188</td>\n",
              "      <td>0.134878</td>\n",
              "      <td>-1.627333</td>\n",
              "      <td>0.917096</td>\n",
              "      <td>-0.396720</td>\n",
              "      <td>1.209086</td>\n",
              "      <td>-0.674868</td>\n",
              "      <td>0.880116</td>\n",
              "      <td>-1.909454</td>\n",
              "      <td>1.809440</td>\n",
              "      <td>1.501507</td>\n",
              "      <td>-1.225561</td>\n",
              "      <td>-0.406242</td>\n",
              "      <td>0.621322</td>\n",
              "      <td>-0.808423</td>\n",
              "      <td>-0.613424</td>\n",
              "      <td>-0.119494</td>\n",
              "      <td>-0.337662</td>\n",
              "      <td>-0.560819</td>\n",
              "      <td>0.282673</td>\n",
              "      <td>0.869122</td>\n",
              "      <td>-0.610198</td>\n",
              "      <td>0.034188</td>\n",
              "      <td>0.098540</td>\n",
              "      <td>0.091763</td>\n",
              "      <td>1.79</td>\n",
              "      <td>0.0</td>\n",
              "    </tr>\n",
              "    <tr>\n",
              "      <th>158599</th>\n",
              "      <td>111499.0</td>\n",
              "      <td>-0.324219</td>\n",
              "      <td>1.078371</td>\n",
              "      <td>-0.661833</td>\n",
              "      <td>-1.060278</td>\n",
              "      <td>1.553663</td>\n",
              "      <td>-1.123551</td>\n",
              "      <td>1.788409</td>\n",
              "      <td>-0.653065</td>\n",
              "      <td>0.899690</td>\n",
              "      <td>-0.190682</td>\n",
              "      <td>1.711868</td>\n",
              "      <td>-1.797449</td>\n",
              "      <td>1.891790</td>\n",
              "      <td>1.945016</td>\n",
              "      <td>-1.551701</td>\n",
              "      <td>-0.580773</td>\n",
              "      <td>-0.131663</td>\n",
              "      <td>0.295118</td>\n",
              "      <td>-0.022733</td>\n",
              "      <td>0.136918</td>\n",
              "      <td>0.053192</td>\n",
              "      <td>0.870073</td>\n",
              "      <td>-0.223665</td>\n",
              "      <td>-0.390476</td>\n",
              "      <td>-0.264169</td>\n",
              "      <td>0.032943</td>\n",
              "      <td>0.325164</td>\n",
              "      <td>0.093798</td>\n",
              "      <td>31.00</td>\n",
              "      <td>0.0</td>\n",
              "    </tr>\n",
              "    <tr>\n",
              "      <th>158600</th>\n",
              "      <td>111500.0</td>\n",
              "      <td>-0.909674</td>\n",
              "      <td>1.204345</td>\n",
              "      <td>-0.038838</td>\n",
              "      <td>0.528709</td>\n",
              "      <td>2.760196</td>\n",
              "      <td>1.270910</td>\n",
              "      <td>0.929798</td>\n",
              "      <td>0.373622</td>\n",
              "      <td>0.090421</td>\n",
              "      <td>-1.511485</td>\n",
              "      <td>2.161028</td>\n",
              "      <td>-2.525702</td>\n",
              "      <td>0.551146</td>\n",
              "      <td>0.763656</td>\n",
              "      <td>-0.853826</td>\n",
              "      <td>-1.039936</td>\n",
              "      <td>2.400179</td>\n",
              "      <td>-0.115619</td>\n",
              "      <td>-0.742981</td>\n",
              "      <td>-0.104079</td>\n",
              "      <td>-0.066235</td>\n",
              "      <td>0.123375</td>\n",
              "      <td>-0.538330</td>\n",
              "      <td>-0.920971</td>\n",
              "      <td>0.985594</td>\n",
              "      <td>-0.251958</td>\n",
              "      <td>0.046382</td>\n",
              "      <td>0.055573</td>\n",
              "      <td>1.00</td>\n",
              "      <td>0.0</td>\n",
              "    </tr>\n",
              "    <tr>\n",
              "      <th>158601</th>\n",
              "      <td>111502.0</td>\n",
              "      <td>1.939272</td>\n",
              "      <td>-0.528638</td>\n",
              "      <td>-0.457417</td>\n",
              "      <td>0.289690</td>\n",
              "      <td>-0.413718</td>\n",
              "      <td>0.061268</td>\n",
              "      <td>-0.754919</td>\n",
              "      <td>NaN</td>\n",
              "      <td>NaN</td>\n",
              "      <td>NaN</td>\n",
              "      <td>NaN</td>\n",
              "      <td>NaN</td>\n",
              "      <td>NaN</td>\n",
              "      <td>NaN</td>\n",
              "      <td>NaN</td>\n",
              "      <td>NaN</td>\n",
              "      <td>NaN</td>\n",
              "      <td>NaN</td>\n",
              "      <td>NaN</td>\n",
              "      <td>NaN</td>\n",
              "      <td>NaN</td>\n",
              "      <td>NaN</td>\n",
              "      <td>NaN</td>\n",
              "      <td>NaN</td>\n",
              "      <td>NaN</td>\n",
              "      <td>NaN</td>\n",
              "      <td>NaN</td>\n",
              "      <td>NaN</td>\n",
              "      <td>NaN</td>\n",
              "      <td>NaN</td>\n",
              "    </tr>\n",
              "  </tbody>\n",
              "</table>\n",
              "</div>\n",
              "      <button class=\"colab-df-convert\" onclick=\"convertToInteractive('df-a2b75d53-2f4a-4d25-86a1-4576ca1fbf81')\"\n",
              "              title=\"Convert this dataframe to an interactive table.\"\n",
              "              style=\"display:none;\">\n",
              "        \n",
              "  <svg xmlns=\"http://www.w3.org/2000/svg\" height=\"24px\"viewBox=\"0 0 24 24\"\n",
              "       width=\"24px\">\n",
              "    <path d=\"M0 0h24v24H0V0z\" fill=\"none\"/>\n",
              "    <path d=\"M18.56 5.44l.94 2.06.94-2.06 2.06-.94-2.06-.94-.94-2.06-.94 2.06-2.06.94zm-11 1L8.5 8.5l.94-2.06 2.06-.94-2.06-.94L8.5 2.5l-.94 2.06-2.06.94zm10 10l.94 2.06.94-2.06 2.06-.94-2.06-.94-.94-2.06-.94 2.06-2.06.94z\"/><path d=\"M17.41 7.96l-1.37-1.37c-.4-.4-.92-.59-1.43-.59-.52 0-1.04.2-1.43.59L10.3 9.45l-7.72 7.72c-.78.78-.78 2.05 0 2.83L4 21.41c.39.39.9.59 1.41.59.51 0 1.02-.2 1.41-.59l7.78-7.78 2.81-2.81c.8-.78.8-2.07 0-2.86zM5.41 20L4 18.59l7.72-7.72 1.47 1.35L5.41 20z\"/>\n",
              "  </svg>\n",
              "      </button>\n",
              "      \n",
              "  <style>\n",
              "    .colab-df-container {\n",
              "      display:flex;\n",
              "      flex-wrap:wrap;\n",
              "      gap: 12px;\n",
              "    }\n",
              "\n",
              "    .colab-df-convert {\n",
              "      background-color: #E8F0FE;\n",
              "      border: none;\n",
              "      border-radius: 50%;\n",
              "      cursor: pointer;\n",
              "      display: none;\n",
              "      fill: #1967D2;\n",
              "      height: 32px;\n",
              "      padding: 0 0 0 0;\n",
              "      width: 32px;\n",
              "    }\n",
              "\n",
              "    .colab-df-convert:hover {\n",
              "      background-color: #E2EBFA;\n",
              "      box-shadow: 0px 1px 2px rgba(60, 64, 67, 0.3), 0px 1px 3px 1px rgba(60, 64, 67, 0.15);\n",
              "      fill: #174EA6;\n",
              "    }\n",
              "\n",
              "    [theme=dark] .colab-df-convert {\n",
              "      background-color: #3B4455;\n",
              "      fill: #D2E3FC;\n",
              "    }\n",
              "\n",
              "    [theme=dark] .colab-df-convert:hover {\n",
              "      background-color: #434B5C;\n",
              "      box-shadow: 0px 1px 3px 1px rgba(0, 0, 0, 0.15);\n",
              "      filter: drop-shadow(0px 1px 2px rgba(0, 0, 0, 0.3));\n",
              "      fill: #FFFFFF;\n",
              "    }\n",
              "  </style>\n",
              "\n",
              "      <script>\n",
              "        const buttonEl =\n",
              "          document.querySelector('#df-a2b75d53-2f4a-4d25-86a1-4576ca1fbf81 button.colab-df-convert');\n",
              "        buttonEl.style.display =\n",
              "          google.colab.kernel.accessAllowed ? 'block' : 'none';\n",
              "\n",
              "        async function convertToInteractive(key) {\n",
              "          const element = document.querySelector('#df-a2b75d53-2f4a-4d25-86a1-4576ca1fbf81');\n",
              "          const dataTable =\n",
              "            await google.colab.kernel.invokeFunction('convertToInteractive',\n",
              "                                                     [key], {});\n",
              "          if (!dataTable) return;\n",
              "\n",
              "          const docLinkHtml = 'Like what you see? Visit the ' +\n",
              "            '<a target=\"_blank\" href=https://colab.research.google.com/notebooks/data_table.ipynb>data table notebook</a>'\n",
              "            + ' to learn more about interactive tables.';\n",
              "          element.innerHTML = '';\n",
              "          dataTable['output_type'] = 'display_data';\n",
              "          await google.colab.output.renderOutput(dataTable, element);\n",
              "          const docLink = document.createElement('div');\n",
              "          docLink.innerHTML = docLinkHtml;\n",
              "          element.appendChild(docLink);\n",
              "        }\n",
              "      </script>\n",
              "    </div>\n",
              "  </div>\n",
              "  "
            ]
          },
          "metadata": {},
          "execution_count": 33
        }
      ]
    },
    {
      "cell_type": "code",
      "source": [
        "df = df.iloc[df.index < 158601]\n",
        "df.info()"
      ],
      "metadata": {
        "colab": {
          "base_uri": "https://localhost:8080/"
        },
        "id": "AcVflGX5iJLl",
        "outputId": "7da84238-f171-407e-fc4f-0e32331cb870"
      },
      "execution_count": 35,
      "outputs": [
        {
          "output_type": "stream",
          "name": "stdout",
          "text": [
            "<class 'pandas.core.frame.DataFrame'>\n",
            "Int64Index: 158601 entries, 0 to 158600\n",
            "Data columns (total 31 columns):\n",
            " #   Column  Non-Null Count   Dtype  \n",
            "---  ------  --------------   -----  \n",
            " 0   Time    158601 non-null  float64\n",
            " 1   V1      158601 non-null  float64\n",
            " 2   V2      158601 non-null  float64\n",
            " 3   V3      158601 non-null  float64\n",
            " 4   V4      158601 non-null  float64\n",
            " 5   V5      158601 non-null  float64\n",
            " 6   V6      158601 non-null  float64\n",
            " 7   V7      158601 non-null  float64\n",
            " 8   V8      158601 non-null  float64\n",
            " 9   V9      158601 non-null  float64\n",
            " 10  V10     158601 non-null  float64\n",
            " 11  V11     158601 non-null  float64\n",
            " 12  V12     158601 non-null  float64\n",
            " 13  V13     158601 non-null  float64\n",
            " 14  V14     158601 non-null  float64\n",
            " 15  V15     158601 non-null  float64\n",
            " 16  V16     158601 non-null  float64\n",
            " 17  V17     158601 non-null  float64\n",
            " 18  V18     158601 non-null  float64\n",
            " 19  V19     158601 non-null  float64\n",
            " 20  V20     158601 non-null  float64\n",
            " 21  V21     158601 non-null  float64\n",
            " 22  V22     158601 non-null  float64\n",
            " 23  V23     158601 non-null  float64\n",
            " 24  V24     158601 non-null  float64\n",
            " 25  V25     158601 non-null  float64\n",
            " 26  V26     158601 non-null  float64\n",
            " 27  V27     158601 non-null  float64\n",
            " 28  V28     158601 non-null  float64\n",
            " 29  Amount  158601 non-null  float64\n",
            " 30  Class   158601 non-null  float64\n",
            "dtypes: float64(31)\n",
            "memory usage: 38.7 MB\n"
          ]
        }
      ]
    },
    {
      "cell_type": "code",
      "source": [
        "df.tail()"
      ],
      "metadata": {
        "colab": {
          "base_uri": "https://localhost:8080/",
          "height": 270
        },
        "id": "kcnxpOE5iT0f",
        "outputId": "5ac8ff1a-da73-49ef-c67b-4236f9c0ae41"
      },
      "execution_count": 36,
      "outputs": [
        {
          "output_type": "execute_result",
          "data": {
            "text/plain": [
              "            Time        V1        V2        V3        V4        V5        V6  \\\n",
              "158596  111498.0  1.969378 -0.242307 -0.068347  0.720586 -0.647182 -0.470082   \n",
              "158597  111499.0  1.753695  0.018874 -0.429072  4.161717  0.215270  0.811187   \n",
              "158598  111499.0 -0.223112  0.969299  0.774386 -0.162188  0.134878 -1.627333   \n",
              "158599  111499.0 -0.324219  1.078371 -0.661833 -1.060278  1.553663 -1.123551   \n",
              "158600  111500.0 -0.909674  1.204345 -0.038838  0.528709  2.760196  1.270910   \n",
              "\n",
              "              V7        V8        V9       V10       V11       V12       V13  \\\n",
              "158596 -0.648397 -0.167131  2.626792 -0.568939  0.152742 -1.557857  2.583406   \n",
              "158597 -0.328388  0.124104  1.297017  0.925459 -1.342173 -3.560343 -0.127983   \n",
              "158598  0.917096 -0.396720  1.209086 -0.674868  0.880116 -1.909454  1.809440   \n",
              "158599  1.788409 -0.653065  0.899690 -0.190682  1.711868 -1.797449  1.891790   \n",
              "158600  0.929798  0.373622  0.090421 -1.511485  2.161028 -2.525702  0.551146   \n",
              "\n",
              "             V14       V15       V16       V17       V18       V19       V20  \\\n",
              "158596  1.076699 -0.307714 -0.054404  0.244042  0.277816 -0.514831 -0.217955   \n",
              "158597  1.436686 -2.426679  0.554229  0.309518  0.162733 -1.356323 -0.259487   \n",
              "158598  1.501507 -1.225561 -0.406242  0.621322 -0.808423 -0.613424 -0.119494   \n",
              "158599  1.945016 -1.551701 -0.580773 -0.131663  0.295118 -0.022733  0.136918   \n",
              "158600  0.763656 -0.853826 -1.039936  2.400179 -0.115619 -0.742981 -0.104079   \n",
              "\n",
              "             V21       V22       V23       V24       V25       V26       V27  \\\n",
              "158596  0.059016  0.724484  0.127695 -0.026085 -0.107126 -0.251481  0.023643   \n",
              "158597 -0.059761  0.046540  0.032887  0.375723  0.050400  0.075297 -0.062722   \n",
              "158598 -0.337662 -0.560819  0.282673  0.869122 -0.610198  0.034188  0.098540   \n",
              "158599  0.053192  0.870073 -0.223665 -0.390476 -0.264169  0.032943  0.325164   \n",
              "158600 -0.066235  0.123375 -0.538330 -0.920971  0.985594 -0.251958  0.046382   \n",
              "\n",
              "             V28  Amount  Class  \n",
              "158596 -0.041423    9.99    0.0  \n",
              "158597 -0.037895   89.03    0.0  \n",
              "158598  0.091763    1.79    0.0  \n",
              "158599  0.093798   31.00    0.0  \n",
              "158600  0.055573    1.00    0.0  "
            ],
            "text/html": [
              "\n",
              "  <div id=\"df-4997cb0e-dd81-41b8-b27a-64e632eb690a\">\n",
              "    <div class=\"colab-df-container\">\n",
              "      <div>\n",
              "<style scoped>\n",
              "    .dataframe tbody tr th:only-of-type {\n",
              "        vertical-align: middle;\n",
              "    }\n",
              "\n",
              "    .dataframe tbody tr th {\n",
              "        vertical-align: top;\n",
              "    }\n",
              "\n",
              "    .dataframe thead th {\n",
              "        text-align: right;\n",
              "    }\n",
              "</style>\n",
              "<table border=\"1\" class=\"dataframe\">\n",
              "  <thead>\n",
              "    <tr style=\"text-align: right;\">\n",
              "      <th></th>\n",
              "      <th>Time</th>\n",
              "      <th>V1</th>\n",
              "      <th>V2</th>\n",
              "      <th>V3</th>\n",
              "      <th>V4</th>\n",
              "      <th>V5</th>\n",
              "      <th>V6</th>\n",
              "      <th>V7</th>\n",
              "      <th>V8</th>\n",
              "      <th>V9</th>\n",
              "      <th>V10</th>\n",
              "      <th>V11</th>\n",
              "      <th>V12</th>\n",
              "      <th>V13</th>\n",
              "      <th>V14</th>\n",
              "      <th>V15</th>\n",
              "      <th>V16</th>\n",
              "      <th>V17</th>\n",
              "      <th>V18</th>\n",
              "      <th>V19</th>\n",
              "      <th>V20</th>\n",
              "      <th>V21</th>\n",
              "      <th>V22</th>\n",
              "      <th>V23</th>\n",
              "      <th>V24</th>\n",
              "      <th>V25</th>\n",
              "      <th>V26</th>\n",
              "      <th>V27</th>\n",
              "      <th>V28</th>\n",
              "      <th>Amount</th>\n",
              "      <th>Class</th>\n",
              "    </tr>\n",
              "  </thead>\n",
              "  <tbody>\n",
              "    <tr>\n",
              "      <th>158596</th>\n",
              "      <td>111498.0</td>\n",
              "      <td>1.969378</td>\n",
              "      <td>-0.242307</td>\n",
              "      <td>-0.068347</td>\n",
              "      <td>0.720586</td>\n",
              "      <td>-0.647182</td>\n",
              "      <td>-0.470082</td>\n",
              "      <td>-0.648397</td>\n",
              "      <td>-0.167131</td>\n",
              "      <td>2.626792</td>\n",
              "      <td>-0.568939</td>\n",
              "      <td>0.152742</td>\n",
              "      <td>-1.557857</td>\n",
              "      <td>2.583406</td>\n",
              "      <td>1.076699</td>\n",
              "      <td>-0.307714</td>\n",
              "      <td>-0.054404</td>\n",
              "      <td>0.244042</td>\n",
              "      <td>0.277816</td>\n",
              "      <td>-0.514831</td>\n",
              "      <td>-0.217955</td>\n",
              "      <td>0.059016</td>\n",
              "      <td>0.724484</td>\n",
              "      <td>0.127695</td>\n",
              "      <td>-0.026085</td>\n",
              "      <td>-0.107126</td>\n",
              "      <td>-0.251481</td>\n",
              "      <td>0.023643</td>\n",
              "      <td>-0.041423</td>\n",
              "      <td>9.99</td>\n",
              "      <td>0.0</td>\n",
              "    </tr>\n",
              "    <tr>\n",
              "      <th>158597</th>\n",
              "      <td>111499.0</td>\n",
              "      <td>1.753695</td>\n",
              "      <td>0.018874</td>\n",
              "      <td>-0.429072</td>\n",
              "      <td>4.161717</td>\n",
              "      <td>0.215270</td>\n",
              "      <td>0.811187</td>\n",
              "      <td>-0.328388</td>\n",
              "      <td>0.124104</td>\n",
              "      <td>1.297017</td>\n",
              "      <td>0.925459</td>\n",
              "      <td>-1.342173</td>\n",
              "      <td>-3.560343</td>\n",
              "      <td>-0.127983</td>\n",
              "      <td>1.436686</td>\n",
              "      <td>-2.426679</td>\n",
              "      <td>0.554229</td>\n",
              "      <td>0.309518</td>\n",
              "      <td>0.162733</td>\n",
              "      <td>-1.356323</td>\n",
              "      <td>-0.259487</td>\n",
              "      <td>-0.059761</td>\n",
              "      <td>0.046540</td>\n",
              "      <td>0.032887</td>\n",
              "      <td>0.375723</td>\n",
              "      <td>0.050400</td>\n",
              "      <td>0.075297</td>\n",
              "      <td>-0.062722</td>\n",
              "      <td>-0.037895</td>\n",
              "      <td>89.03</td>\n",
              "      <td>0.0</td>\n",
              "    </tr>\n",
              "    <tr>\n",
              "      <th>158598</th>\n",
              "      <td>111499.0</td>\n",
              "      <td>-0.223112</td>\n",
              "      <td>0.969299</td>\n",
              "      <td>0.774386</td>\n",
              "      <td>-0.162188</td>\n",
              "      <td>0.134878</td>\n",
              "      <td>-1.627333</td>\n",
              "      <td>0.917096</td>\n",
              "      <td>-0.396720</td>\n",
              "      <td>1.209086</td>\n",
              "      <td>-0.674868</td>\n",
              "      <td>0.880116</td>\n",
              "      <td>-1.909454</td>\n",
              "      <td>1.809440</td>\n",
              "      <td>1.501507</td>\n",
              "      <td>-1.225561</td>\n",
              "      <td>-0.406242</td>\n",
              "      <td>0.621322</td>\n",
              "      <td>-0.808423</td>\n",
              "      <td>-0.613424</td>\n",
              "      <td>-0.119494</td>\n",
              "      <td>-0.337662</td>\n",
              "      <td>-0.560819</td>\n",
              "      <td>0.282673</td>\n",
              "      <td>0.869122</td>\n",
              "      <td>-0.610198</td>\n",
              "      <td>0.034188</td>\n",
              "      <td>0.098540</td>\n",
              "      <td>0.091763</td>\n",
              "      <td>1.79</td>\n",
              "      <td>0.0</td>\n",
              "    </tr>\n",
              "    <tr>\n",
              "      <th>158599</th>\n",
              "      <td>111499.0</td>\n",
              "      <td>-0.324219</td>\n",
              "      <td>1.078371</td>\n",
              "      <td>-0.661833</td>\n",
              "      <td>-1.060278</td>\n",
              "      <td>1.553663</td>\n",
              "      <td>-1.123551</td>\n",
              "      <td>1.788409</td>\n",
              "      <td>-0.653065</td>\n",
              "      <td>0.899690</td>\n",
              "      <td>-0.190682</td>\n",
              "      <td>1.711868</td>\n",
              "      <td>-1.797449</td>\n",
              "      <td>1.891790</td>\n",
              "      <td>1.945016</td>\n",
              "      <td>-1.551701</td>\n",
              "      <td>-0.580773</td>\n",
              "      <td>-0.131663</td>\n",
              "      <td>0.295118</td>\n",
              "      <td>-0.022733</td>\n",
              "      <td>0.136918</td>\n",
              "      <td>0.053192</td>\n",
              "      <td>0.870073</td>\n",
              "      <td>-0.223665</td>\n",
              "      <td>-0.390476</td>\n",
              "      <td>-0.264169</td>\n",
              "      <td>0.032943</td>\n",
              "      <td>0.325164</td>\n",
              "      <td>0.093798</td>\n",
              "      <td>31.00</td>\n",
              "      <td>0.0</td>\n",
              "    </tr>\n",
              "    <tr>\n",
              "      <th>158600</th>\n",
              "      <td>111500.0</td>\n",
              "      <td>-0.909674</td>\n",
              "      <td>1.204345</td>\n",
              "      <td>-0.038838</td>\n",
              "      <td>0.528709</td>\n",
              "      <td>2.760196</td>\n",
              "      <td>1.270910</td>\n",
              "      <td>0.929798</td>\n",
              "      <td>0.373622</td>\n",
              "      <td>0.090421</td>\n",
              "      <td>-1.511485</td>\n",
              "      <td>2.161028</td>\n",
              "      <td>-2.525702</td>\n",
              "      <td>0.551146</td>\n",
              "      <td>0.763656</td>\n",
              "      <td>-0.853826</td>\n",
              "      <td>-1.039936</td>\n",
              "      <td>2.400179</td>\n",
              "      <td>-0.115619</td>\n",
              "      <td>-0.742981</td>\n",
              "      <td>-0.104079</td>\n",
              "      <td>-0.066235</td>\n",
              "      <td>0.123375</td>\n",
              "      <td>-0.538330</td>\n",
              "      <td>-0.920971</td>\n",
              "      <td>0.985594</td>\n",
              "      <td>-0.251958</td>\n",
              "      <td>0.046382</td>\n",
              "      <td>0.055573</td>\n",
              "      <td>1.00</td>\n",
              "      <td>0.0</td>\n",
              "    </tr>\n",
              "  </tbody>\n",
              "</table>\n",
              "</div>\n",
              "      <button class=\"colab-df-convert\" onclick=\"convertToInteractive('df-4997cb0e-dd81-41b8-b27a-64e632eb690a')\"\n",
              "              title=\"Convert this dataframe to an interactive table.\"\n",
              "              style=\"display:none;\">\n",
              "        \n",
              "  <svg xmlns=\"http://www.w3.org/2000/svg\" height=\"24px\"viewBox=\"0 0 24 24\"\n",
              "       width=\"24px\">\n",
              "    <path d=\"M0 0h24v24H0V0z\" fill=\"none\"/>\n",
              "    <path d=\"M18.56 5.44l.94 2.06.94-2.06 2.06-.94-2.06-.94-.94-2.06-.94 2.06-2.06.94zm-11 1L8.5 8.5l.94-2.06 2.06-.94-2.06-.94L8.5 2.5l-.94 2.06-2.06.94zm10 10l.94 2.06.94-2.06 2.06-.94-2.06-.94-.94-2.06-.94 2.06-2.06.94z\"/><path d=\"M17.41 7.96l-1.37-1.37c-.4-.4-.92-.59-1.43-.59-.52 0-1.04.2-1.43.59L10.3 9.45l-7.72 7.72c-.78.78-.78 2.05 0 2.83L4 21.41c.39.39.9.59 1.41.59.51 0 1.02-.2 1.41-.59l7.78-7.78 2.81-2.81c.8-.78.8-2.07 0-2.86zM5.41 20L4 18.59l7.72-7.72 1.47 1.35L5.41 20z\"/>\n",
              "  </svg>\n",
              "      </button>\n",
              "      \n",
              "  <style>\n",
              "    .colab-df-container {\n",
              "      display:flex;\n",
              "      flex-wrap:wrap;\n",
              "      gap: 12px;\n",
              "    }\n",
              "\n",
              "    .colab-df-convert {\n",
              "      background-color: #E8F0FE;\n",
              "      border: none;\n",
              "      border-radius: 50%;\n",
              "      cursor: pointer;\n",
              "      display: none;\n",
              "      fill: #1967D2;\n",
              "      height: 32px;\n",
              "      padding: 0 0 0 0;\n",
              "      width: 32px;\n",
              "    }\n",
              "\n",
              "    .colab-df-convert:hover {\n",
              "      background-color: #E2EBFA;\n",
              "      box-shadow: 0px 1px 2px rgba(60, 64, 67, 0.3), 0px 1px 3px 1px rgba(60, 64, 67, 0.15);\n",
              "      fill: #174EA6;\n",
              "    }\n",
              "\n",
              "    [theme=dark] .colab-df-convert {\n",
              "      background-color: #3B4455;\n",
              "      fill: #D2E3FC;\n",
              "    }\n",
              "\n",
              "    [theme=dark] .colab-df-convert:hover {\n",
              "      background-color: #434B5C;\n",
              "      box-shadow: 0px 1px 3px 1px rgba(0, 0, 0, 0.15);\n",
              "      filter: drop-shadow(0px 1px 2px rgba(0, 0, 0, 0.3));\n",
              "      fill: #FFFFFF;\n",
              "    }\n",
              "  </style>\n",
              "\n",
              "      <script>\n",
              "        const buttonEl =\n",
              "          document.querySelector('#df-4997cb0e-dd81-41b8-b27a-64e632eb690a button.colab-df-convert');\n",
              "        buttonEl.style.display =\n",
              "          google.colab.kernel.accessAllowed ? 'block' : 'none';\n",
              "\n",
              "        async function convertToInteractive(key) {\n",
              "          const element = document.querySelector('#df-4997cb0e-dd81-41b8-b27a-64e632eb690a');\n",
              "          const dataTable =\n",
              "            await google.colab.kernel.invokeFunction('convertToInteractive',\n",
              "                                                     [key], {});\n",
              "          if (!dataTable) return;\n",
              "\n",
              "          const docLinkHtml = 'Like what you see? Visit the ' +\n",
              "            '<a target=\"_blank\" href=https://colab.research.google.com/notebooks/data_table.ipynb>data table notebook</a>'\n",
              "            + ' to learn more about interactive tables.';\n",
              "          element.innerHTML = '';\n",
              "          dataTable['output_type'] = 'display_data';\n",
              "          await google.colab.output.renderOutput(dataTable, element);\n",
              "          const docLink = document.createElement('div');\n",
              "          docLink.innerHTML = docLinkHtml;\n",
              "          element.appendChild(docLink);\n",
              "        }\n",
              "      </script>\n",
              "    </div>\n",
              "  </div>\n",
              "  "
            ]
          },
          "metadata": {},
          "execution_count": 36
        }
      ]
    },
    {
      "cell_type": "code",
      "source": [
        "X = pd.DataFrame.drop(df, columns = ['Class'], axis = 1)\n",
        "X.info()"
      ],
      "metadata": {
        "colab": {
          "base_uri": "https://localhost:8080/"
        },
        "id": "W6T0XvIfdQVo",
        "outputId": "35b2b103-7f4b-4d69-b9af-187d274914bc"
      },
      "execution_count": 37,
      "outputs": [
        {
          "output_type": "stream",
          "name": "stdout",
          "text": [
            "<class 'pandas.core.frame.DataFrame'>\n",
            "Int64Index: 158601 entries, 0 to 158600\n",
            "Data columns (total 30 columns):\n",
            " #   Column  Non-Null Count   Dtype  \n",
            "---  ------  --------------   -----  \n",
            " 0   Time    158601 non-null  float64\n",
            " 1   V1      158601 non-null  float64\n",
            " 2   V2      158601 non-null  float64\n",
            " 3   V3      158601 non-null  float64\n",
            " 4   V4      158601 non-null  float64\n",
            " 5   V5      158601 non-null  float64\n",
            " 6   V6      158601 non-null  float64\n",
            " 7   V7      158601 non-null  float64\n",
            " 8   V8      158601 non-null  float64\n",
            " 9   V9      158601 non-null  float64\n",
            " 10  V10     158601 non-null  float64\n",
            " 11  V11     158601 non-null  float64\n",
            " 12  V12     158601 non-null  float64\n",
            " 13  V13     158601 non-null  float64\n",
            " 14  V14     158601 non-null  float64\n",
            " 15  V15     158601 non-null  float64\n",
            " 16  V16     158601 non-null  float64\n",
            " 17  V17     158601 non-null  float64\n",
            " 18  V18     158601 non-null  float64\n",
            " 19  V19     158601 non-null  float64\n",
            " 20  V20     158601 non-null  float64\n",
            " 21  V21     158601 non-null  float64\n",
            " 22  V22     158601 non-null  float64\n",
            " 23  V23     158601 non-null  float64\n",
            " 24  V24     158601 non-null  float64\n",
            " 25  V25     158601 non-null  float64\n",
            " 26  V26     158601 non-null  float64\n",
            " 27  V27     158601 non-null  float64\n",
            " 28  V28     158601 non-null  float64\n",
            " 29  Amount  158601 non-null  float64\n",
            "dtypes: float64(30)\n",
            "memory usage: 37.5 MB\n"
          ]
        }
      ]
    },
    {
      "cell_type": "code",
      "source": [
        "y = df['Class']\n",
        "y"
      ],
      "metadata": {
        "colab": {
          "base_uri": "https://localhost:8080/"
        },
        "id": "RF8KbUjhetfb",
        "outputId": "eb7b2287-3471-4a47-dc0f-ea1da7a3870a"
      },
      "execution_count": 38,
      "outputs": [
        {
          "output_type": "execute_result",
          "data": {
            "text/plain": [
              "0         0.0\n",
              "1         0.0\n",
              "2         0.0\n",
              "3         0.0\n",
              "4         0.0\n",
              "         ... \n",
              "158596    0.0\n",
              "158597    0.0\n",
              "158598    0.0\n",
              "158599    0.0\n",
              "158600    0.0\n",
              "Name: Class, Length: 158601, dtype: float64"
            ]
          },
          "metadata": {},
          "execution_count": 38
        }
      ]
    },
    {
      "cell_type": "code",
      "source": [
        "X_train, X_test, y_train, y_test = train_test_split(X, y, test_size=0.3, random_state=100, stratify=y)"
      ],
      "metadata": {
        "id": "Gf0m3TUkfYn5"
      },
      "execution_count": 39,
      "outputs": []
    },
    {
      "cell_type": "code",
      "source": [
        "X_train.shape"
      ],
      "metadata": {
        "colab": {
          "base_uri": "https://localhost:8080/"
        },
        "id": "R5tJdJuvfYkh",
        "outputId": "4abcf2e2-cf2e-426b-e08b-e4b5f6fbf8f8"
      },
      "execution_count": 42,
      "outputs": [
        {
          "output_type": "execute_result",
          "data": {
            "text/plain": [
              "(111020, 30)"
            ]
          },
          "metadata": {},
          "execution_count": 42
        }
      ]
    },
    {
      "cell_type": "code",
      "source": [
        "X_test.shape"
      ],
      "metadata": {
        "colab": {
          "base_uri": "https://localhost:8080/"
        },
        "id": "y5i6QccPikWK",
        "outputId": "81809637-6db4-48a3-8087-9d796ed8c896"
      },
      "execution_count": 43,
      "outputs": [
        {
          "output_type": "execute_result",
          "data": {
            "text/plain": [
              "(47581, 30)"
            ]
          },
          "metadata": {},
          "execution_count": 43
        }
      ]
    },
    {
      "cell_type": "code",
      "source": [
        "y_train.shape"
      ],
      "metadata": {
        "colab": {
          "base_uri": "https://localhost:8080/"
        },
        "id": "W6tM6QdjioSX",
        "outputId": "5a1bf08f-2c3f-4420-d4f9-e9a2bfcaff55"
      },
      "execution_count": 44,
      "outputs": [
        {
          "output_type": "execute_result",
          "data": {
            "text/plain": [
              "(111020,)"
            ]
          },
          "metadata": {},
          "execution_count": 44
        }
      ]
    },
    {
      "cell_type": "code",
      "source": [
        "y_test.shape"
      ],
      "metadata": {
        "colab": {
          "base_uri": "https://localhost:8080/"
        },
        "id": "e5LgKWO_irhF",
        "outputId": "19928608-a2bb-4049-d9a4-b025356557f9"
      },
      "execution_count": 45,
      "outputs": [
        {
          "output_type": "execute_result",
          "data": {
            "text/plain": [
              "(47581,)"
            ]
          },
          "metadata": {},
          "execution_count": 45
        }
      ]
    },
    {
      "cell_type": "code",
      "source": [
        "param = [{'n_estimators': [10, 15],\n",
        "'max_features': np.arange(3, 5),\n",
        "'max_depth': np.arange(4, 7)}]"
      ],
      "metadata": {
        "id": "kHQaggoLi0ME"
      },
      "execution_count": 46,
      "outputs": []
    },
    {
      "cell_type": "code",
      "source": [
        "gscv = GridSearchCV(estimator=RandomForestClassifier(random_state=100), param_grid=param, scoring='roc_auc', cv=3)"
      ],
      "metadata": {
        "id": "ncO5mbITi5yt"
      },
      "execution_count": 47,
      "outputs": []
    },
    {
      "cell_type": "code",
      "source": [
        "gscv.fit(X_train, y_train)"
      ],
      "metadata": {
        "colab": {
          "base_uri": "https://localhost:8080/"
        },
        "id": "AMlKjYjCjuuu",
        "outputId": "5014d0a5-dfab-4f64-9596-8f6bc88e0c11"
      },
      "execution_count": 48,
      "outputs": [
        {
          "output_type": "execute_result",
          "data": {
            "text/plain": [
              "GridSearchCV(cv=3, estimator=RandomForestClassifier(random_state=100),\n",
              "             param_grid=[{'max_depth': array([4, 5, 6]),\n",
              "                          'max_features': array([3, 4]),\n",
              "                          'n_estimators': [10, 15]}],\n",
              "             scoring='roc_auc')"
            ]
          },
          "metadata": {},
          "execution_count": 48
        }
      ]
    },
    {
      "cell_type": "code",
      "source": [
        "gscv.best_params_"
      ],
      "metadata": {
        "colab": {
          "base_uri": "https://localhost:8080/"
        },
        "id": "Km9Z6GT-n9Yk",
        "outputId": "52163922-9f6e-4991-e2e4-8bd49caeaf32"
      },
      "execution_count": 49,
      "outputs": [
        {
          "output_type": "execute_result",
          "data": {
            "text/plain": [
              "{'max_depth': 6, 'max_features': 4, 'n_estimators': 15}"
            ]
          },
          "metadata": {},
          "execution_count": 49
        }
      ]
    },
    {
      "cell_type": "code",
      "source": [
        "y_pred = gscv.predict_proba(X_test)"
      ],
      "metadata": {
        "id": "TVOBhaPIovH0"
      },
      "execution_count": 50,
      "outputs": []
    },
    {
      "cell_type": "code",
      "source": [
        "y_pred"
      ],
      "metadata": {
        "colab": {
          "base_uri": "https://localhost:8080/"
        },
        "id": "nFCwtkudpFI-",
        "outputId": "7857c2a8-f4e4-4276-92aa-131766128b38"
      },
      "execution_count": 53,
      "outputs": [
        {
          "output_type": "execute_result",
          "data": {
            "text/plain": [
              "array([[9.99790381e-01, 2.09619022e-04],\n",
              "       [9.99790381e-01, 2.09619022e-04],\n",
              "       [9.99763156e-01, 2.36843901e-04],\n",
              "       ...,\n",
              "       [9.99665834e-01, 3.34165531e-04],\n",
              "       [9.99808324e-01, 1.91675825e-04],\n",
              "       [9.99808324e-01, 1.91675825e-04]])"
            ]
          },
          "metadata": {},
          "execution_count": 53
        }
      ]
    },
    {
      "cell_type": "code",
      "source": [
        "y_pred_proba = y_pred[:, 1]\n",
        "y_pred_proba"
      ],
      "metadata": {
        "colab": {
          "base_uri": "https://localhost:8080/"
        },
        "id": "4FTWfiSApWlD",
        "outputId": "3b966e71-3880-4b48-c4cb-607d8e20d819"
      },
      "execution_count": 56,
      "outputs": [
        {
          "output_type": "execute_result",
          "data": {
            "text/plain": [
              "array([0.00020962, 0.00020962, 0.00023684, ..., 0.00033417, 0.00019168,\n",
              "       0.00019168])"
            ]
          },
          "metadata": {},
          "execution_count": 56
        }
      ]
    },
    {
      "cell_type": "code",
      "source": [
        "from sklearn.metrics import roc_auc_score\n",
        "from sklearn.metrics import roc_curve"
      ],
      "metadata": {
        "id": "WVhKS2TXp5J0"
      },
      "execution_count": 58,
      "outputs": []
    },
    {
      "cell_type": "code",
      "source": [
        "logit_roc_auc = roc_auc_score(y_test, y_pred_proba)\n",
        "# logit_roc_auc = roc_auc_score(y_test, gscv.predict(X_test))\n",
        "fpr, tpr, thresholds = roc_curve(y_test, y_pred_proba)\n",
        "plt.figure()\n",
        "plt.plot(fpr, tpr, label='Logistic Regression (area = %0.2f)' % logit_roc_auc)\n",
        "plt.plot([0, 1], [0, 1],'r--')\n",
        "plt.xlim([0.0, 1.0])\n",
        "plt.ylim([0.0, 1.05])\n",
        "plt.xlabel('False Positive Rate')\n",
        "plt.ylabel('True Positive Rate')\n",
        "plt.title('Receiver operating characteristic')\n",
        "plt.legend(loc=\"lower right\")\n",
        "plt.savefig('Log_ROC')\n",
        "plt.show()"
      ],
      "metadata": {
        "colab": {
          "base_uri": "https://localhost:8080/",
          "height": 295
        },
        "id": "RUJEXIEAp6l9",
        "outputId": "24204523-d5b0-42f4-f322-d5c82292b6f1"
      },
      "execution_count": 61,
      "outputs": [
        {
          "output_type": "display_data",
          "data": {
            "text/plain": [
              "<Figure size 432x288 with 1 Axes>"
            ],
            "image/png": "[encoded data removed]"
          },
          "metadata": {
            "needs_background": "light"
          }
        }
      ]
    }
  ]
}